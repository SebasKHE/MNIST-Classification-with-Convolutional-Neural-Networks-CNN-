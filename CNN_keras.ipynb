{
 "cells": [
  {
   "cell_type": "code",
   "execution_count": 7,
   "metadata": {},
   "outputs": [],
   "source": [
    "import keras\n",
    "from keras.models import Sequential\n",
    "from keras.layers import Dense, Conv2D, MaxPooling2D, Flatten\n",
    "from keras.utils import to_categorical\n"
   ]
  },
  {
   "cell_type": "markdown",
   "metadata": {},
   "source": [
    "Convolutional Layer with One set of convolutional and pooling layers\n"
   ]
  },
  {
   "cell_type": "code",
   "execution_count": 15,
   "metadata": {},
   "outputs": [],
   "source": [
    "# import data\n",
    "from keras.datasets import mnist\n",
    "\n",
    "# load data\n",
    "(X_train, y_train), (X_test, y_test) = mnist.load_data()\n",
    "\n",
    "# reshape to be [samples][pixels][width][height]\n",
    "X_train = X_train.reshape(X_train.shape[0], 28, 28, 1).astype('float32')\n",
    "X_test = X_test.reshape(X_test.shape[0], 28, 28, 1).astype('float32')"
   ]
  },
  {
   "cell_type": "markdown",
   "metadata": {},
   "source": [
    "Normalizamos"
   ]
  },
  {
   "cell_type": "code",
   "execution_count": 16,
   "metadata": {},
   "outputs": [],
   "source": [
    "X_train = X_train / 255 # normalize training data\n",
    "X_test = X_test / 255 # normalize test data"
   ]
  },
  {
   "cell_type": "markdown",
   "metadata": {},
   "source": [
    "Next, let's convert the target variable into binary categories"
   ]
  },
  {
   "cell_type": "code",
   "execution_count": 17,
   "metadata": {},
   "outputs": [],
   "source": [
    "y_train = to_categorical(y_train)\n",
    "y_test = to_categorical(y_test)\n",
    "\n",
    "num_classes = y_test.shape[1] # number of categories"
   ]
  },
  {
   "cell_type": "markdown",
   "metadata": {},
   "source": [
    "Create the convolutional model"
   ]
  },
  {
   "cell_type": "code",
   "execution_count": 18,
   "metadata": {},
   "outputs": [],
   "source": [
    "def convolutional_model():\n",
    "    \n",
    "    # create model\n",
    "    model = Sequential()\n",
    "    model.add(Conv2D(16, (5, 5), strides=(1, 1), activation='relu', input_shape=(28, 28, 1)))\n",
    "    model.add(MaxPooling2D(pool_size=(2, 2), strides=(2, 2)))\n",
    "    \n",
    "    model.add(Flatten())\n",
    "    model.add(Dense(100, activation='relu'))\n",
    "    model.add(Dense(num_classes, activation='softmax'))\n",
    "    \n",
    "    # compile model\n",
    "    model.compile(optimizer='adam', loss='categorical_crossentropy',  metrics=['accuracy'])\n",
    "    return model"
   ]
  },
  {
   "cell_type": "code",
   "execution_count": 19,
   "metadata": {},
   "outputs": [
    {
     "name": "stdout",
     "output_type": "stream",
     "text": [
      "Epoch 1/10\n",
      "300/300 - 2s - 6ms/step - accuracy: 0.9268 - loss: 0.2684 - val_accuracy: 0.9752 - val_loss: 0.0834\n",
      "Epoch 2/10\n",
      "300/300 - 1s - 4ms/step - accuracy: 0.9782 - loss: 0.0748 - val_accuracy: 0.9842 - val_loss: 0.0507\n",
      "Epoch 3/10\n",
      "300/300 - 1s - 4ms/step - accuracy: 0.9843 - loss: 0.0533 - val_accuracy: 0.9850 - val_loss: 0.0459\n",
      "Epoch 4/10\n",
      "300/300 - 1s - 4ms/step - accuracy: 0.9879 - loss: 0.0406 - val_accuracy: 0.9850 - val_loss: 0.0417\n",
      "Epoch 5/10\n",
      "300/300 - 1s - 4ms/step - accuracy: 0.9899 - loss: 0.0330 - val_accuracy: 0.9863 - val_loss: 0.0405\n",
      "Epoch 6/10\n",
      "300/300 - 1s - 4ms/step - accuracy: 0.9916 - loss: 0.0273 - val_accuracy: 0.9867 - val_loss: 0.0398\n",
      "Epoch 7/10\n",
      "300/300 - 1s - 4ms/step - accuracy: 0.9929 - loss: 0.0235 - val_accuracy: 0.9876 - val_loss: 0.0379\n",
      "Epoch 8/10\n",
      "300/300 - 1s - 4ms/step - accuracy: 0.9939 - loss: 0.0199 - val_accuracy: 0.9872 - val_loss: 0.0387\n",
      "Epoch 9/10\n",
      "300/300 - 1s - 3ms/step - accuracy: 0.9956 - loss: 0.0152 - val_accuracy: 0.9868 - val_loss: 0.0413\n",
      "Epoch 10/10\n",
      "300/300 - 1s - 4ms/step - accuracy: 0.9959 - loss: 0.0134 - val_accuracy: 0.9880 - val_loss: 0.0363\n"
     ]
    },
    {
     "data": {
      "text/plain": [
       "[0.03631526604294777, 0.9879999756813049]"
      ]
     },
     "execution_count": 19,
     "metadata": {},
     "output_type": "execute_result"
    }
   ],
   "source": [
    "# build the model\n",
    "model = convolutional_model()\n",
    "\n",
    "# fit the model\n",
    "model.fit(X_train, y_train, validation_data=(X_test, y_test), epochs=10, batch_size=200, verbose=2)\n",
    "\n",
    "# evaluate the model\n",
    "scores = model.evaluate(X_test, y_test, verbose=0)\n",
    "scores\n"
   ]
  },
  {
   "cell_type": "code",
   "execution_count": 20,
   "metadata": {},
   "outputs": [
    {
     "name": "stdout",
     "output_type": "stream",
     "text": [
      "Accuracy: 0.9879999756813049 \n",
      " Error: 1.2000024318695068\n"
     ]
    }
   ],
   "source": [
    "print(\"Accuracy: {} \\n Error: {}\".format(scores[1], 100-scores[1]*100))"
   ]
  },
  {
   "cell_type": "markdown",
   "metadata": {},
   "source": [
    "Convolutional model wqith two sets "
   ]
  },
  {
   "cell_type": "code",
   "execution_count": 21,
   "metadata": {},
   "outputs": [],
   "source": [
    "def convolutional_model():\n",
    "    \n",
    "    # create model\n",
    "    model = Sequential()\n",
    "    model.add(Conv2D(16, (5, 5), activation='relu', input_shape=(28, 28, 1)))\n",
    "    model.add(MaxPooling2D(pool_size=(2, 2), strides=(2, 2)))\n",
    "    \n",
    "    model.add(Conv2D(8, (2, 2), activation='relu'))\n",
    "    model.add(MaxPooling2D(pool_size=(2, 2), strides=(2, 2)))\n",
    "    \n",
    "    model.add(Flatten())\n",
    "    model.add(Dense(100, activation='relu'))\n",
    "    model.add(Dense(num_classes, activation='softmax'))\n",
    "    \n",
    "    # Compile model\n",
    "    model.compile(optimizer='adam', loss='categorical_crossentropy',  metrics=['accuracy'])\n",
    "    return model"
   ]
  },
  {
   "cell_type": "code",
   "execution_count": 22,
   "metadata": {},
   "outputs": [
    {
     "name": "stdout",
     "output_type": "stream",
     "text": [
      "Epoch 1/10\n",
      "300/300 - 2s - 6ms/step - accuracy: 0.8668 - loss: 0.4613 - val_accuracy: 0.9648 - val_loss: 0.1183\n",
      "Epoch 2/10\n",
      "300/300 - 1s - 3ms/step - accuracy: 0.9661 - loss: 0.1086 - val_accuracy: 0.9746 - val_loss: 0.0796\n",
      "Epoch 3/10\n",
      "300/300 - 1s - 3ms/step - accuracy: 0.9753 - loss: 0.0793 - val_accuracy: 0.9823 - val_loss: 0.0584\n",
      "Epoch 4/10\n",
      "300/300 - 1s - 3ms/step - accuracy: 0.9802 - loss: 0.0640 - val_accuracy: 0.9788 - val_loss: 0.0621\n",
      "Epoch 5/10\n",
      "300/300 - 1s - 3ms/step - accuracy: 0.9834 - loss: 0.0542 - val_accuracy: 0.9833 - val_loss: 0.0492\n",
      "Epoch 6/10\n",
      "300/300 - 1s - 3ms/step - accuracy: 0.9851 - loss: 0.0483 - val_accuracy: 0.9832 - val_loss: 0.0502\n",
      "Epoch 7/10\n",
      "300/300 - 1s - 3ms/step - accuracy: 0.9871 - loss: 0.0427 - val_accuracy: 0.9864 - val_loss: 0.0402\n",
      "Epoch 8/10\n",
      "300/300 - 1s - 3ms/step - accuracy: 0.9884 - loss: 0.0386 - val_accuracy: 0.9867 - val_loss: 0.0388\n",
      "Epoch 9/10\n",
      "300/300 - 1s - 3ms/step - accuracy: 0.9898 - loss: 0.0336 - val_accuracy: 0.9881 - val_loss: 0.0349\n",
      "Epoch 10/10\n",
      "300/300 - 1s - 3ms/step - accuracy: 0.9900 - loss: 0.0323 - val_accuracy: 0.9872 - val_loss: 0.0359\n",
      "Accuracy: 0.9872000217437744 \n",
      " Error: 1.2799978256225586\n"
     ]
    }
   ],
   "source": [
    "# build the model\n",
    "model = convolutional_model()\n",
    "\n",
    "# fit the model\n",
    "model.fit(X_train, y_train, validation_data=(X_test, y_test), epochs=10, batch_size=200, verbose=2)\n",
    "\n",
    "# evaluate the model\n",
    "scores = model.evaluate(X_test, y_test, verbose=0)\n",
    "print(\"Accuracy: {} \\n Error: {}\".format(scores[1], 100-scores[1]*100))"
   ]
  }
 ],
 "metadata": {
  "kernelspec": {
   "display_name": "Python 3",
   "language": "python",
   "name": "python3"
  },
  "language_info": {
   "codemirror_mode": {
    "name": "ipython",
    "version": 3
   },
   "file_extension": ".py",
   "mimetype": "text/x-python",
   "name": "python",
   "nbconvert_exporter": "python",
   "pygments_lexer": "ipython3",
   "version": "3.12.7"
  }
 },
 "nbformat": 4,
 "nbformat_minor": 2
}
